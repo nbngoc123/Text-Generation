{
 "cells": [
  {
   "cell_type": "markdown",
   "metadata": {},
   "source": [
    "# Load data"
   ]
  },
  {
   "cell_type": "code",
   "execution_count": 1,
   "metadata": {},
   "outputs": [],
   "source": [
    "import os\n",
    "import numpy as np\n",
    "import pandas as pd\n",
    "import matplotlib.pyplot as plt\n",
    "import tensorflow as tf\n",
    "import re\n",
    "import random\n",
    "\n",
    "from tensorflow.keras.preprocessing.text import Tokenizer\n",
    "from tensorflow.keras.preprocessing.sequence import pad_sequences\n",
    "# from nltk.translate.bleu_score import sentence_bleu, corpus_bleu\n",
    "from tensorflow.keras import Sequential\n",
    "from tensorflow.keras.layers import Layer, Dense, Embedding, Dropout\n",
    "\n",
    "\n",
    "RANDOM_SEED = 1\n",
    "tf.random.set_seed(RANDOM_SEED)"
   ]
  },
  {
   "cell_type": "code",
   "execution_count": 2,
   "metadata": {},
   "outputs": [],
   "source": [
    "def text_normalize(text):\n",
    "    text = text.lower()\n",
    "    text = text.strip() \n",
    "    text = re.sub(r'[^\\w\\s\\n]', '', text)\n",
    "    text = text.replace('\\n\\n', '\\n')\n",
    "    text = '\\n'.join(['<start> ' + line + ' <end>' for line in text.split('\\n') if line != '' and len(line.split()) == 5])\n",
    " \n",
    "    return text"
   ]
  },
  {
   "cell_type": "code",
   "execution_count": 3,
   "metadata": {},
   "outputs": [],
   "source": [
    "BATCH_SIZE = 32\n",
    "MAX_SEQ_LEN = 7\n",
    "VOCAB_SIZE = 5000"
   ]
  },
  {
   "cell_type": "code",
   "execution_count": 4,
   "metadata": {},
   "outputs": [],
   "source": [
    "DATASET_PATH = 'data-set1.csv'\n",
    "\n",
    "df = pd.read_csv(DATASET_PATH, index_col=0)\n",
    "df['poem_content'] = df['poem_content'].apply(lambda p: text_normalize(p))\n",
    "# df['poem_content'] = df['poem_content'].astype(str).apply(lambda p: text_normalize(p))\n",
    "corpus = df['poem_content'].to_numpy()\n",
    "\n",
    "X = []\n",
    "y = []\n",
    "for idx, row in df.iterrows():\n",
    "    lines = row['poem_content'].split('\\n')\n",
    "    lines = [line for line in lines if line != '']\n",
    "    for idx in range(0, len(lines) - 1):\n",
    "        input_sentence = lines[idx]\n",
    "        output_sentence = lines[idx+1]\n",
    "\n",
    "        X.append(input_sentence)\n",
    "        y.append(output_sentence)"
   ]
  },
  {
   "cell_type": "code",
   "execution_count": 5,
   "metadata": {},
   "outputs": [
    {
     "name": "stdout",
     "output_type": "stream",
     "text": [
      "Input: <start> hầu hết các đồ vật <end> => <start> ta muốn đều đắt tiền <end>\n",
      "Input: <start> ta muốn đều đắt tiền <end> => <start> một khi không có được <end>\n",
      "Input: <start> một khi không có được <end> => <start> ta cảm thấy buồn phiền <end>\n",
      "Input: <start> ta cảm thấy buồn phiền <end> => <start> trong khi cái thực sự <end>\n",
      "Input: <start> trong khi cái thực sự <end> => <start> làm ta vui ở đời <end>\n",
      "Input: <start> làm ta vui ở đời <end> => <start> hoàn toàn không tốn kém <end>\n",
      "Input: <start> hoàn toàn không tốn kém <end> => <start> là tình yêu tiếng cười <end>\n",
      "Input: <start> hiện tại anh đang sống <end> => <start> không được để phí hoài <end>\n",
      "Input: <start> không được để phí hoài <end> => <start> vì nỗi buồn quá khứ <end>\n",
      "Input: <start> vì nỗi buồn quá khứ <end> => <start> và sợ hãi tương lai <end>\n"
     ]
    }
   ],
   "source": [
    "for idx in range(len(X))[:10]:\n",
    "    print(f'Input: {X[idx]} => {y[idx]}')"
   ]
  },
  {
   "cell_type": "code",
   "execution_count": 6,
   "metadata": {},
   "outputs": [],
   "source": [
    "tokenizer = Tokenizer(num_words=VOCAB_SIZE, filters='', oov_token=\"<OOV>\")\n",
    "tokenizer.fit_on_texts(corpus)\n",
    "\n",
    "VOCAB_SIZE = len(tokenizer.word_index) + 1"
   ]
  },
  {
   "cell_type": "code",
   "execution_count": 7,
   "metadata": {},
   "outputs": [],
   "source": [
    "def prepare_output_sequences(y_sequences):\n",
    "    y_inputs = pad_sequences([y_seq[:-1] for y_seq in y_sequences], maxlen=MAX_SEQ_LEN, truncating='pre', padding='post')\n",
    "    y_outputs = pad_sequences([y_seq[1:] for y_seq in y_sequences], maxlen=MAX_SEQ_LEN, truncating='pre', padding='post')\n",
    "\n",
    "    return y_inputs, y_outputs\n",
    "\n",
    "X_sequences = tokenizer.texts_to_sequences(X)\n",
    "X_padded_sequences = pad_sequences(X_sequences, maxlen=MAX_SEQ_LEN, truncating='pre', padding='post')\n",
    "\n",
    "y_sequences = tokenizer.texts_to_sequences(y)\n",
    "y_inputs, y_outputs = prepare_output_sequences(y_sequences)"
   ]
  },
  {
   "cell_type": "code",
   "execution_count": 8,
   "metadata": {},
   "outputs": [],
   "source": [
    "n_samples = len(X_padded_sequences)\n",
    "train_len = int(n_samples * 0.7)\n",
    "val_len = int(n_samples * 0.2)\n",
    "test_len = n_samples - train_len - val_len\n",
    "\n",
    "# Shuffle \n",
    "np.random.seed(1)\n",
    "idxs = np.arange(n_samples)\n",
    "idxs = np.random.permutation(idxs)\n",
    "\n",
    "X_padded_sequences = X_padded_sequences[idxs]\n",
    "y_inputs = y_inputs[idxs]\n",
    "y_outputs = y_outputs[idxs]\n",
    "\n",
    "# Split the data into train, validation, and test sets\n",
    "X_train_seq, y_train_input, y_train_output = X_padded_sequences[:train_len], y_inputs[:train_len], y_outputs[:train_len]\n",
    "X_val_seq, y_val_input, y_val_output = X_padded_sequences[train_len:train_len+val_len], y_inputs[train_len:train_len+val_len], y_outputs[train_len:train_len+val_len]\n",
    "X_test_seq, y_test_input, y_test_output = X_padded_sequences[train_len+val_len:], y_inputs[train_len+val_len:], y_outputs[train_len+val_len:]"
   ]
  },
  {
   "cell_type": "code",
   "execution_count": 9,
   "metadata": {},
   "outputs": [],
   "source": [
    "train_ds = tf.data.Dataset.from_tensor_slices(((X_train_seq, y_train_input), y_train_output)).batch(BATCH_SIZE)\n",
    "val_ds = tf.data.Dataset.from_tensor_slices(((X_val_seq, y_val_input), y_val_output)).batch(BATCH_SIZE)\n",
    "test_ds = tf.data.Dataset.from_tensor_slices(((X_test_seq, y_test_input), y_test_output)).batch(BATCH_SIZE)\n",
    "\n",
    "AUTOTUNE = tf.data.AUTOTUNE\n",
    "\n",
    "train_ds = train_ds.cache().prefetch(buffer_size=AUTOTUNE)\n",
    "val_ds = val_ds.cache().prefetch(buffer_size=AUTOTUNE)\n",
    "test_ds = test_ds.cache().prefetch(buffer_size=AUTOTUNE)"
   ]
  },
  {
   "cell_type": "code",
   "execution_count": null,
   "metadata": {},
   "outputs": [],
   "source": [
    "for i, j in train_ds:\n",
    "    print(j)\n",
    "    print(i)"
   ]
  },
  {
   "cell_type": "code",
   "execution_count": null,
   "metadata": {},
   "outputs": [],
   "source": []
  },
  {
   "cell_type": "markdown",
   "metadata": {},
   "source": [
    "## Nháp"
   ]
  },
  {
   "cell_type": "code",
   "execution_count": 82,
   "metadata": {},
   "outputs": [
    {
     "name": "stdout",
     "output_type": "stream",
     "text": [
      "tf.Tensor(\n",
      "[[  2 257  85 282 178]\n",
      " [  2   6  45 179 181]\n",
      " [  2   5   7  13  10]\n",
      " ...\n",
      " [  2 126 114  27 241]\n",
      " [  2   1 364  60 248]\n",
      " [  2 351   1   1   1]], shape=(776, 5), dtype=int64)\n",
      "tf.Tensor(\n",
      "[[  2 257  85 282 178]\n",
      " [  2   6  45 179 181]\n",
      " [  2   5   7  13  10]\n",
      " ...\n",
      " [  2 126 114  27 241]\n",
      " [  2   1 364  60 248]\n",
      " [  2 351   1   1   1]], shape=(776, 5), dtype=int64)\n"
     ]
    }
   ],
   "source": [
    "maxlen = 5\n",
    "vocab_size = VOCAB_SIZE = 5000\n",
    "\n",
    "\n",
    "vectorize_layer = tf.keras.layers.TextVectorization(\n",
    "    # standardize=text_normalize,\n",
    "    max_tokens=vocab_size,\n",
    "    output_mode=\"int\",\n",
    "    output_sequence_length=maxlen,\n",
    ")\n",
    "vectorize_layer.adapt(corpus)\n",
    "vectorized_sequences = vectorize_layer(X)\n",
    "print(vectorized_sequences)\n",
    "vectorized_sequences = vectorize_layer(X)\n",
    "print(vectorized_sequences)"
   ]
  },
  {
   "cell_type": "code",
   "execution_count": 83,
   "metadata": {},
   "outputs": [
    {
     "name": "stdout",
     "output_type": "stream",
     "text": [
      "[[205 460 288 485 381]\n",
      " [205 209 248 382 384]\n",
      " [205 208 210 216 213]\n",
      " ...\n",
      " [205 329 317 230 444]\n",
      " [205 204 567 263 451]\n",
      " [205 554 204 204 204]]\n"
     ]
    }
   ],
   "source": [
    "START_TOKEN = 101\n",
    "END_TOKEN = 102\n",
    "\n",
    "# Thêm các token đặc biệt vào đầu và cuối mỗi chuỗi\n",
    "sequences_with_special_tokens = [\n",
    "    [START_TOKEN] + seq + [END_TOKEN]\n",
    "    for seq in vectorized_sequences\n",
    "]\n",
    "\n",
    "# Thêm padding vào dữ liệu token\n",
    "padded_sequences = pad_sequences(sequences_with_special_tokens, padding='post', value=0)\n",
    "\n",
    "print(padded_sequences)\n"
   ]
  },
  {
   "cell_type": "markdown",
   "metadata": {},
   "source": [
    "# Model"
   ]
  },
  {
   "cell_type": "markdown",
   "metadata": {},
   "source": [
    "## Learned Positional Encoding"
   ]
  },
  {
   "cell_type": "code",
   "execution_count": 107,
   "metadata": {},
   "outputs": [],
   "source": [
    "class LearnedPositionalEmbedding(Layer):\n",
    "    def __init__(self, vocab_size, d_model):\n",
    "        super().__init__()\n",
    "        self.token_embedding = Embedding(vocab_size, d_model, mask_zero=True)\n",
    "        self.pos_embedding = Embedding(vocab_size, d_model, mask_zero=True)\n",
    "    \n",
    "    def call(self, x):\n",
    "        maxlen = tf.shape(x)[-1]\n",
    "        positions = tf.range(start=0, limit=maxlen, delta=1)\n",
    "        x = self.token_embedding(x)\n",
    "        pos = self.pos_embedding(positions)\n",
    "        x = x + pos\n",
    "        return x \n",
    "\n"
   ]
  },
  {
   "cell_type": "markdown",
   "metadata": {},
   "source": [
    "#### Nháp"
   ]
  },
  {
   "cell_type": "code",
   "execution_count": 10,
   "metadata": {},
   "outputs": [],
   "source": [
    "token_embedding = Embedding(200, 5, mask_zero=True)\n",
    "pos_embedding = Embedding(4, 5, mask_zero=True)\n",
    "\n",
    "\n",
    "\n",
    "arr = np.array([[2, 43, 64, 2, 0], [2, 43, 64, 2, 0]])\n",
    "arr = tf.convert_to_tensor(arr)\n",
    "len = tf.shape(arr)[-1]\n",
    "# positions = tf.range(start=0, limit=len, delta=1)\n",
    "# pos_embedding(positions)"
   ]
  },
  {
   "cell_type": "code",
   "execution_count": 109,
   "metadata": {},
   "outputs": [
    {
     "data": {
      "text/plain": [
       "<tf.Tensor: shape=(2, 5, 4), dtype=float32, numpy=\n",
       "array([[[ 0.03791033,  0.07307654,  0.00085772, -0.04303437],\n",
       "        [-0.03054502,  0.01317374,  0.02801207,  0.0688414 ],\n",
       "        [ 0.0350856 , -0.01020268, -0.03094573,  0.08283221],\n",
       "        [ 0.05233429,  0.01663573, -0.01136755,  0.03040729],\n",
       "        [ 0.00346883,  0.04577436, -0.01387558, -0.06228261]],\n",
       "\n",
       "       [[ 0.03791033,  0.07307654,  0.00085772, -0.04303437],\n",
       "        [-0.03054502,  0.01317374,  0.02801207,  0.0688414 ],\n",
       "        [ 0.0350856 , -0.01020268, -0.03094573,  0.08283221],\n",
       "        [ 0.05233429,  0.01663573, -0.01136755,  0.03040729],\n",
       "        [ 0.00346883,  0.04577436, -0.01387558, -0.06228261]]],\n",
       "      dtype=float32)>"
      ]
     },
     "execution_count": 109,
     "metadata": {},
     "output_type": "execute_result"
    }
   ],
   "source": [
    "layer = LearnedPositionalEmbedding(100, 4)\n",
    "layer(arr.numpy())"
   ]
  },
  {
   "cell_type": "markdown",
   "metadata": {},
   "source": [
    "## Sinusoidal Positional Encoding"
   ]
  },
  {
   "cell_type": "code",
   "execution_count": 11,
   "metadata": {},
   "outputs": [],
   "source": [
    "def positional_encoding(length, depth):\n",
    "    depth = depth/2\n",
    "\n",
    "    positions = np.arange(length)[:, np.newaxis]     # (seq, 1)\n",
    "    depths = np.arange(depth)[np.newaxis, :]/depth   # (1, depth)\n",
    "\n",
    "    angle_rates = 1 / (10000**depths)         # (1, depth)\n",
    "    angle_rads = positions * angle_rates      # (pos, depth)\n",
    "\n",
    "    pos_encoding = np.concatenate(\n",
    "        [np.sin(angle_rads), np.cos(angle_rads)],\n",
    "        axis=-1) \n",
    "\n",
    "    return tf.cast(pos_encoding, dtype=tf.float32)\n",
    "\n",
    "class SinusoidalPositionalEmbedding(tf.keras.layers.Layer):\n",
    "    def __init__(self, vocab_size, d_model):\n",
    "        super().__init__()\n",
    "        self.d_model = d_model\n",
    "        self.embedding = tf.keras.layers.Embedding(vocab_size, d_model, mask_zero=True) \n",
    "        self.pos_encoding = positional_encoding(length=2048, depth=d_model)\n",
    "\n",
    "    def compute_mask(self, *args, **kwargs):\n",
    "        return self.embedding.compute_mask(*args, **kwargs)\n",
    "\n",
    "    def call(self, x):\n",
    "        length = tf.shape(x)[1]\n",
    "        x = self.embedding(x)\n",
    "        # This factor sets the relative scale of the embedding and positonal_encoding.\n",
    "        x *= tf.math.sqrt(tf.cast(self.d_model, tf.float32))\n",
    "        x = x + self.pos_encoding[tf.newaxis, :length, :]\n",
    "        return x"
   ]
  },
  {
   "cell_type": "markdown",
   "metadata": {},
   "source": [
    "#### Nháp"
   ]
  },
  {
   "cell_type": "code",
   "execution_count": 138,
   "metadata": {},
   "outputs": [
    {
     "data": {
      "text/plain": [
       "<tf.Tensor: shape=(2, 5, 4), dtype=float32, numpy=\n",
       "array([[[ 0.01439571, -0.02052017,  1.0712036 ,  1.0666127 ],\n",
       "        [ 0.9209103 , -0.07773701,  0.5385275 ,  1.0080634 ],\n",
       "        [ 0.82433563,  0.05706312, -0.5143424 ,  1.0509923 ],\n",
       "        [ 0.15551572,  0.00947534, -0.9187889 ,  1.0661628 ],\n",
       "        [-0.79392606,  0.0784515 , -0.65642554,  1.0120287 ]],\n",
       "\n",
       "       [[ 0.01439571, -0.02052017,  1.0712036 ,  1.0666127 ],\n",
       "        [ 0.9209103 , -0.07773701,  0.5385275 ,  1.0080634 ],\n",
       "        [ 0.82433563,  0.05706312, -0.5143424 ,  1.0509923 ],\n",
       "        [ 0.15551572,  0.00947534, -0.9187889 ,  1.0661628 ],\n",
       "        [-0.79392606,  0.0784515 , -0.65642554,  1.0120287 ]]],\n",
       "      dtype=float32)>"
      ]
     },
     "execution_count": 138,
     "metadata": {},
     "output_type": "execute_result"
    }
   ],
   "source": [
    "l = SinusoidalPositionalEmbedding(100, 4)\n",
    "arr = np.array([[2, 43, 64, 2, 0], [2, 43, 64, 2, 0]])\n",
    "arr = tf.convert_to_tensor(arr)\n",
    "l(arr)"
   ]
  },
  {
   "cell_type": "markdown",
   "metadata": {},
   "source": [
    "## Base Self-attention Layer"
   ]
  },
  {
   "cell_type": "code",
   "execution_count": 12,
   "metadata": {},
   "outputs": [],
   "source": [
    "class BaseAttention(Layer):\n",
    "    def __init__(self, **kwargs):\n",
    "        super().__init__()\n",
    "        self.multihead = tf.keras.layers.MultiHeadAttention(**kwargs)\n",
    "        self.layernorm = tf.keras.layers.LayerNormalization()\n",
    "        self.add = tf.keras.layers.Add()"
   ]
  },
  {
   "cell_type": "markdown",
   "metadata": {},
   "source": [
    "## Cross-attention Layer"
   ]
  },
  {
   "cell_type": "code",
   "execution_count": 13,
   "metadata": {},
   "outputs": [],
   "source": [
    "class CrossAttention(BaseAttention):\n",
    "    def call(self, x, context):\n",
    "        out_put, scores = self.multihead(\n",
    "            query=x,\n",
    "            value=context,\n",
    "            key=context,\n",
    "            return_attention_scores=True)\n",
    "        \n",
    "        self.attention_scores = scores\n",
    "        \n",
    "        x = self.add([x, out_put])\n",
    "        return self.layernorm(x)\n"
   ]
  },
  {
   "cell_type": "markdown",
   "metadata": {},
   "source": [
    "#### Nháp"
   ]
  },
  {
   "cell_type": "code",
   "execution_count": 126,
   "metadata": {},
   "outputs": [
    {
     "name": "stdout",
     "output_type": "stream",
     "text": [
      "tf.Tensor(\n",
      "[[[[0.21232034 0.18255974 0.21485221 0.1788626  0.21140505]\n",
      "   [0.073286   0.14252862 0.3329414  0.11701349 0.3342305 ]\n",
      "   [0.23401469 0.22498412 0.14746809 0.24371831 0.14981481]\n",
      "   [0.36998218 0.1875155  0.11549442 0.21384495 0.11316297]\n",
      "   [0.20887628 0.2212073  0.1677036  0.23190716 0.17030561]]\n",
      "\n",
      "  [[0.17774892 0.31501913 0.1490758  0.10378786 0.25436828]\n",
      "   [0.2447398  0.1718101  0.13147347 0.27369794 0.17827867]\n",
      "   [0.24135087 0.10497415 0.12549293 0.40093675 0.12724534]\n",
      "   [0.16262043 0.28726637 0.19932269 0.10679477 0.24399574]\n",
      "   [0.21678881 0.12738472 0.18353868 0.32344913 0.1488387 ]]]], shape=(1, 2, 5, 5), dtype=float32)\n"
     ]
    }
   ],
   "source": [
    "# Create an instance of CrossAttention\n",
    "test_scores = CrossAttention(\n",
    "    num_heads=2,        \n",
    "    key_dim=4 // 2,     \n",
    "    value_dim=4 // 2,  \n",
    ")\n",
    "\n",
    "# Call the call method to compute attention and store the scores\n",
    "output = test_scores(v, v) \n",
    "\n",
    "# Access the attention_scores from the instance\n",
    "scores = test_scores.attention_scores \n",
    "\n",
    "print(scores)"
   ]
  },
  {
   "cell_type": "markdown",
   "metadata": {},
   "source": [
    "## Causal Self-attention Layer"
   ]
  },
  {
   "cell_type": "code",
   "execution_count": 14,
   "metadata": {},
   "outputs": [],
   "source": [
    "class CausalSelfAttention(BaseAttention):\n",
    "    def call(self, x):   \n",
    "        attention = self.multihead(\n",
    "            query=x,\n",
    "            value=x,\n",
    "            key=x,\n",
    "            use_causal_mask=True\n",
    "        ) \n",
    "        out_put = self.add([attention, x])\n",
    "        return self.layernorm(out_put)"
   ]
  },
  {
   "cell_type": "markdown",
   "metadata": {},
   "source": [
    "#### Nháp"
   ]
  },
  {
   "cell_type": "code",
   "execution_count": 116,
   "metadata": {},
   "outputs": [],
   "source": [
    "# def create_causal_mask(size):\n",
    "#   \"\"\"Tạo causal mask cho self-attention.\"\"\"\n",
    "#   mask = 1 - tf.linalg.band_part(tf.ones((size, size)), -1, 0)\n",
    "#   return mask  * -1e9 \n",
    "\n",
    "\n",
    "# attention_scores = ... \n",
    "# mask = create_causal_mask(tf.shape(attention_scores)[1])\n",
    "# masked_attention_scores = attention_scores + mask\n",
    "# attention_probs = tf.nn.softmax(masked_attention_scores)"
   ]
  },
  {
   "cell_type": "code",
   "execution_count": 127,
   "metadata": {},
   "outputs": [
    {
     "name": "stdout",
     "output_type": "stream",
     "text": [
      "tf.Tensor(\n",
      "[[[-0.45701224 -0.40686727  0.7285778  -0.8929778 ]\n",
      "  [ 0.31261146  0.9942925  -1.7842623  -0.52200514]\n",
      "  [ 0.98080045 -0.67598516  1.1456147   0.20607261]\n",
      "  [-0.19721638  0.53809345  0.7643299  -0.8361918 ]\n",
      "  [ 0.3361417   1.5602019   0.7227835   1.0754888 ]]], shape=(1, 5, 4), dtype=float32)\n"
     ]
    }
   ],
   "source": [
    "v = tf.convert_to_tensor(tf.random.normal((1, 5, 4)))\n",
    "print(v)"
   ]
  },
  {
   "cell_type": "code",
   "execution_count": 128,
   "metadata": {},
   "outputs": [
    {
     "name": "stdout",
     "output_type": "stream",
     "text": [
      "tf.Tensor(\n",
      "[[[-0.50193805  0.27502665  1.4622862  -1.2353748 ]\n",
      "  [ 0.7758726   0.88109475 -1.6174264  -0.03954103]\n",
      "  [ 0.6116012  -1.637973    0.96565014  0.06072188]\n",
      "  [-0.5460929   0.67577624  1.205087   -1.3347702 ]\n",
      "  [-1.3937474   1.3079363  -0.36008006  0.44589058]]], shape=(1, 5, 4), dtype=float32)\n"
     ]
    }
   ],
   "source": [
    "\n",
    "attention_layer = CausalSelfAttention(\n",
    "    num_heads=2,      \n",
    "    key_dim=4 // 2,  \n",
    "    value_dim=4 // 2, \n",
    ")\n",
    "l = attention_layer(v)\n",
    "print(l)\n"
   ]
  },
  {
   "cell_type": "markdown",
   "metadata": {},
   "source": [
    "## Global Self-attention Layer"
   ]
  },
  {
   "cell_type": "code",
   "execution_count": 15,
   "metadata": {},
   "outputs": [],
   "source": [
    "class GlobalSelfAttention(BaseAttention):\n",
    "    def call(self, context):   \n",
    "        attention = self.multihead(\n",
    "            query=context,\n",
    "            value=context,\n",
    "            key=context\n",
    "        ) \n",
    "        out_put = self.add([attention, context])\n",
    "        return self.layernorm(out_put)\n"
   ]
  },
  {
   "cell_type": "markdown",
   "metadata": {},
   "source": [
    "## Feed-forward Network"
   ]
  },
  {
   "cell_type": "code",
   "execution_count": 16,
   "metadata": {},
   "outputs": [],
   "source": [
    "class Feedforward(Layer):\n",
    "    def __init__(self, ff_dim, d_model, drop_rate=0.1):\n",
    "        super().__init__()\n",
    "        self.ffn = Sequential(\n",
    "            [Dense(ff_dim, activation=\"relu\"), Dense(d_model), Dropout(drop_rate)]\n",
    "        )\n",
    "        self.layernorm = tf.keras.layers.LayerNormalization()\n",
    "        self.add = tf.keras.layers.Add()\n",
    "    \n",
    "    def call(self, input):\n",
    "        out_put = self.add([self.ffn(input), input])\n",
    "        return self.layernorm(out_put)\n"
   ]
  },
  {
   "cell_type": "markdown",
   "metadata": {},
   "source": [
    "## Encoder Layer"
   ]
  },
  {
   "cell_type": "code",
   "execution_count": 17,
   "metadata": {},
   "outputs": [],
   "source": [
    "class EncoderLayer(Layer):\n",
    "    def __init__(self, *, num_heads, ff_dim, d_model, dropout_rate=0.1):\n",
    "        super().__init__()\n",
    "\n",
    "        self.self_attention = GlobalSelfAttention(\n",
    "            num_heads=num_heads,\n",
    "            key_dim=d_model,\n",
    "            dropout=dropout_rate\n",
    "        )\n",
    "        self.feedforward = Feedforward(ff_dim, d_model)\n",
    "\n",
    "    def call(self, context):\n",
    "        context = self.self_attention(context)\n",
    "        out_put = self.feedforward(context)\n",
    "        return out_put\n",
    "    "
   ]
  },
  {
   "cell_type": "markdown",
   "metadata": {},
   "source": [
    "## Transformer Encoder"
   ]
  },
  {
   "cell_type": "code",
   "execution_count": 18,
   "metadata": {},
   "outputs": [],
   "source": [
    "class Encoder(Layer):\n",
    "    \"\"\"Đây là một mô tả ngắn gọn về lớp Decoder.\n",
    "\n",
    "    Args:\n",
    "        num_heads (int): Số lớp self head attention.\n",
    "        vocab_size (int): Kích thước của vocabulary thường là rất lớn.\n",
    "        num_layers (int): Số lượng lớp block encoder recomment = 6.\n",
    "        ff_dim (int): Kích thước lớp dense của feed forward layer.\n",
    "        d_model (int): Chiều sâu mô hình recomment = 128/258/512/1024.\n",
    "        dropout_rate (float): Tỉ lệ drop out. Mặc định là '0.1'.\n",
    "\n",
    "\n",
    "    \"\"\"\n",
    "    def __init__(self, *, num_heads, vocab_size, num_layers, ff_dim, d_model, dropout_rate=0.1):\n",
    "        super().__init__()\n",
    "        \n",
    "        self.d_model = d_model\n",
    "        self.num_layers = num_layers\n",
    "\n",
    "        self.pos_embedding =  SinusoidalPositionalEmbedding(vocab_size=vocab_size, d_model=d_model)\n",
    "        self.N_layers = [EncoderLayer(\n",
    "                        num_heads=num_heads,\n",
    "                        ff_dim=ff_dim,\n",
    "                        d_model=d_model,\n",
    "                        dropout_rate=dropout_rate,) \n",
    "                        for _ in range(num_layers)]\n",
    "        self.drop_out = Dropout(dropout_rate)\n",
    "\n",
    "    def call(self, context):\n",
    "        context = self.pos_embedding(context)\n",
    "        context = self.drop_out(context)\n",
    "\n",
    "        for i in range(self.num_layers):\n",
    "            context = self.N_layers[i](context)\n",
    "        return context\n"
   ]
  },
  {
   "cell_type": "markdown",
   "metadata": {},
   "source": [
    "#### Nháp"
   ]
  },
  {
   "cell_type": "code",
   "execution_count": 29,
   "metadata": {},
   "outputs": [
    {
     "name": "stdout",
     "output_type": "stream",
     "text": [
      "tf.Tensor(\n",
      "[[[-1.1771784  -0.90325946  0.8419609  -0.06870949]\n",
      "  [-0.96161884 -0.51533026  2.4461458   1.3048527 ]\n",
      "  [-2.2004392   0.60459185 -0.5646027   0.10282746]\n",
      "  [-0.827649    0.48992977  0.72180253 -1.3863678 ]\n",
      "  [ 0.8310243   0.27414545 -0.42633235  0.49712068]]], shape=(1, 5, 4), dtype=float32)\n",
      "tf.Tensor(\n",
      "[[[-1.1771784  -0.90325946  0.8419609  -0.06870949]\n",
      "  [-0.96161884 -0.51533026  2.4461458   1.3048527 ]\n",
      "  [-2.2004392   0.60459185 -0.5646027   0.10282746]\n",
      "  [-0.827649    0.48992977  0.72180253 -1.3863678 ]\n",
      "  [ 0.8310243   0.27414545 -0.42633235  0.49712068]]], shape=(1, 5, 4), dtype=float32)\n"
     ]
    },
    {
     "ename": "InvalidArgumentError",
     "evalue": "Exception encountered when calling layer \"sinusoidal_positional_embedding_8\" \"                 f\"(type SinusoidalPositionalEmbedding).\n\n{{function_node __wrapped__AddV2_device_/job:localhost/replica:0/task:0/device:GPU:0}} required broadcastable shapes [Op:AddV2]\n\nCall arguments received by layer \"sinusoidal_positional_embedding_8\" \"                 f\"(type SinusoidalPositionalEmbedding):\n  • x=tf.Tensor(shape=(1, 5, 4), dtype=float32)",
     "output_type": "error",
     "traceback": [
      "\u001b[1;31m---------------------------------------------------------------------------\u001b[0m",
      "\u001b[1;31mInvalidArgumentError\u001b[0m                      Traceback (most recent call last)",
      "Cell \u001b[1;32mIn[29], line 5\u001b[0m\n\u001b[0;32m      3\u001b[0m layr \u001b[38;5;241m=\u001b[39m Decoder(num_heads\u001b[38;5;241m=\u001b[39m\u001b[38;5;241m1\u001b[39m, vocab_size\u001b[38;5;241m=\u001b[39m\u001b[38;5;241m1000\u001b[39m, num_layers\u001b[38;5;241m=\u001b[39m\u001b[38;5;241m1\u001b[39m, ff_dim\u001b[38;5;241m=\u001b[39m\u001b[38;5;241m10\u001b[39m, d_model\u001b[38;5;241m=\u001b[39m\u001b[38;5;241m4\u001b[39m)\n\u001b[0;32m      4\u001b[0m \u001b[38;5;28mprint\u001b[39m(v)\n\u001b[1;32m----> 5\u001b[0m \u001b[43mlayr\u001b[49m\u001b[43m(\u001b[49m\u001b[43mv\u001b[49m\u001b[43m,\u001b[49m\u001b[43m \u001b[49m\u001b[43mv\u001b[49m\u001b[43m)\u001b[49m\n",
      "File \u001b[1;32mc:\\Users\\ADMIN\\anaconda3\\envs\\env_310\\lib\\site-packages\\keras\\utils\\traceback_utils.py:70\u001b[0m, in \u001b[0;36mfilter_traceback.<locals>.error_handler\u001b[1;34m(*args, **kwargs)\u001b[0m\n\u001b[0;32m     67\u001b[0m     filtered_tb \u001b[38;5;241m=\u001b[39m _process_traceback_frames(e\u001b[38;5;241m.\u001b[39m__traceback__)\n\u001b[0;32m     68\u001b[0m     \u001b[38;5;66;03m# To get the full stack trace, call:\u001b[39;00m\n\u001b[0;32m     69\u001b[0m     \u001b[38;5;66;03m# `tf.debugging.disable_traceback_filtering()`\u001b[39;00m\n\u001b[1;32m---> 70\u001b[0m     \u001b[38;5;28;01mraise\u001b[39;00m e\u001b[38;5;241m.\u001b[39mwith_traceback(filtered_tb) \u001b[38;5;28;01mfrom\u001b[39;00m \u001b[38;5;28;01mNone\u001b[39;00m\n\u001b[0;32m     71\u001b[0m \u001b[38;5;28;01mfinally\u001b[39;00m:\n\u001b[0;32m     72\u001b[0m     \u001b[38;5;28;01mdel\u001b[39;00m filtered_tb\n",
      "Cell \u001b[1;32mIn[27], line 33\u001b[0m, in \u001b[0;36mDecoder.call\u001b[1;34m(self, x, context)\u001b[0m\n\u001b[0;32m     32\u001b[0m \u001b[38;5;28;01mdef\u001b[39;00m \u001b[38;5;21mcall\u001b[39m(\u001b[38;5;28mself\u001b[39m, x, context):\n\u001b[1;32m---> 33\u001b[0m     x \u001b[38;5;241m=\u001b[39m \u001b[38;5;28;43mself\u001b[39;49m\u001b[38;5;241;43m.\u001b[39;49m\u001b[43mpos_embedding\u001b[49m\u001b[43m(\u001b[49m\u001b[43mx\u001b[49m\u001b[43m)\u001b[49m\n\u001b[0;32m     34\u001b[0m     x \u001b[38;5;241m=\u001b[39m \u001b[38;5;28mself\u001b[39m\u001b[38;5;241m.\u001b[39mdrop_out(x)\n\u001b[0;32m     36\u001b[0m     \u001b[38;5;28;01mfor\u001b[39;00m i \u001b[38;5;129;01min\u001b[39;00m \u001b[38;5;28mrange\u001b[39m(\u001b[38;5;28mself\u001b[39m\u001b[38;5;241m.\u001b[39mnum_layers):\n",
      "Cell \u001b[1;32mIn[11], line 31\u001b[0m, in \u001b[0;36mSinusoidalPositionalEmbedding.call\u001b[1;34m(self, x)\u001b[0m\n\u001b[0;32m     29\u001b[0m \u001b[38;5;66;03m# This factor sets the relative scale of the embedding and positonal_encoding.\u001b[39;00m\n\u001b[0;32m     30\u001b[0m x \u001b[38;5;241m*\u001b[39m\u001b[38;5;241m=\u001b[39m tf\u001b[38;5;241m.\u001b[39mmath\u001b[38;5;241m.\u001b[39msqrt(tf\u001b[38;5;241m.\u001b[39mcast(\u001b[38;5;28mself\u001b[39m\u001b[38;5;241m.\u001b[39md_model, tf\u001b[38;5;241m.\u001b[39mfloat32))\n\u001b[1;32m---> 31\u001b[0m x \u001b[38;5;241m=\u001b[39m \u001b[43mx\u001b[49m\u001b[43m \u001b[49m\u001b[38;5;241;43m+\u001b[39;49m\u001b[43m \u001b[49m\u001b[38;5;28;43mself\u001b[39;49m\u001b[38;5;241;43m.\u001b[39;49m\u001b[43mpos_encoding\u001b[49m\u001b[43m[\u001b[49m\u001b[43mtf\u001b[49m\u001b[38;5;241;43m.\u001b[39;49m\u001b[43mnewaxis\u001b[49m\u001b[43m,\u001b[49m\u001b[43m \u001b[49m\u001b[43m:\u001b[49m\u001b[43mlength\u001b[49m\u001b[43m,\u001b[49m\u001b[43m \u001b[49m\u001b[43m:\u001b[49m\u001b[43m]\u001b[49m\n\u001b[0;32m     32\u001b[0m \u001b[38;5;28;01mreturn\u001b[39;00m x\n",
      "\u001b[1;31mInvalidArgumentError\u001b[0m: Exception encountered when calling layer \"sinusoidal_positional_embedding_8\" \"                 f\"(type SinusoidalPositionalEmbedding).\n\n{{function_node __wrapped__AddV2_device_/job:localhost/replica:0/task:0/device:GPU:0}} required broadcastable shapes [Op:AddV2]\n\nCall arguments received by layer \"sinusoidal_positional_embedding_8\" \"                 f\"(type SinusoidalPositionalEmbedding):\n  • x=tf.Tensor(shape=(1, 5, 4), dtype=float32)"
     ]
    }
   ],
   "source": [
    "v = tf.convert_to_tensor(tf.random.normal((1, 5, 4)))\n",
    "print(v)\n",
    "layr = Decoder(num_heads=1, vocab_size=1000, num_layers=1, ff_dim=10, d_model=4)\n",
    "print(v)\n",
    "layr(v, v)\n"
   ]
  },
  {
   "cell_type": "markdown",
   "metadata": {},
   "source": [
    "<!-- ## Decoder Layer -->"
   ]
  },
  {
   "cell_type": "code",
   "execution_count": 26,
   "metadata": {},
   "outputs": [],
   "source": [
    "class DecoderLayer(Layer):\n",
    "    def __init__(self, *,num_heads, d_model, ff_dim, dropout_rate=0.1):\n",
    "        super().__init__()\n",
    "\n",
    "        self.mask_self_attention = CausalSelfAttention(\n",
    "            num_heads=num_heads,\n",
    "            key_dim=d_model,\n",
    "            dropout=dropout_rate,)\n",
    "        \n",
    "        self.cross_attention = CrossAttention(\n",
    "            num_heads=num_heads,\n",
    "            key_dim=d_model,\n",
    "            dropout=dropout_rate,)\n",
    "        self.feed_forward = Feedforward(ff_dim, d_model)\n",
    "\n",
    "    def call(self, x, context):\n",
    "        x = self.mask_self_attention(x=x)\n",
    "        out_put1 = self.cross_attention(x, context=context)\n",
    "\n",
    "        # Cache the last attention scores for plotting later\n",
    "        self.attention_scores = self.cross_attention.attention_scores\n",
    "        out_put2 = self.feed_forward(out_put1)\n",
    "\n",
    "        return out_put2 # Shape (batch_size, seq_len, d_model)"
   ]
  },
  {
   "cell_type": "markdown",
   "metadata": {},
   "source": [
    "## Transformer Decoder"
   ]
  },
  {
   "cell_type": "code",
   "execution_count": 27,
   "metadata": {},
   "outputs": [],
   "source": [
    "class Decoder(Layer):\n",
    "    \"\"\"Đây là một mô tả ngắn gọn về lớp Decoder.\n",
    "\n",
    "    Args:\n",
    "        num_heads (int): Số lớp self head attention.\n",
    "        vocab_size (int): Kích thước của vocabulary thường là rất lớn.\n",
    "        num_layers (int): Số lượng lớp block decoder recomment = 6.\n",
    "        ff_dim (int): Kích thước lớp dense của feed forward layer.\n",
    "        d_model (int): Chiều sâu mô hình recomment = 128/258/512/1024.\n",
    "        dropout_rate (float): Tỉ lệ drop out. Mặc định là '0.1'.\n",
    "\n",
    "\n",
    "    \"\"\"\n",
    "\n",
    "    def __init__(self, *, num_heads, vocab_size, num_layers, ff_dim, d_model, dropout_rate=0.1):\n",
    "        super().__init__()\n",
    "        \n",
    "        self.d_model = d_model\n",
    "        self.num_layers = num_layers\n",
    "\n",
    "        self.pos_embedding =  SinusoidalPositionalEmbedding(vocab_size=vocab_size, d_model=d_model)\n",
    "        self.N_layers = [\n",
    "            DecoderLayer(num_heads=num_heads,\n",
    "                        ff_dim=ff_dim,\n",
    "                        d_model=d_model,\n",
    "                        dropout_rate=dropout_rate,) \n",
    "            for _ in range(num_layers)]\n",
    "        self.drop_out = Dropout(dropout_rate)\n",
    "\n",
    "        self.attention_scores = None\n",
    "\n",
    "    def call(self, x, context):\n",
    "        x = self.pos_embedding(x)\n",
    "        x = self.drop_out(x)\n",
    "\n",
    "        for i in range(self.num_layers):\n",
    "            y = self.N_layers[i](x, context)\n",
    "\n",
    "        self.attention_scores = self.N_layers[-1].attention_scores\n",
    "\n",
    "        # The shape of x is (batch_size, target_seq_len, d_model).\n",
    "        return y\n"
   ]
  },
  {
   "cell_type": "markdown",
   "metadata": {},
   "source": [
    "## Transformer Model"
   ]
  },
  {
   "cell_type": "code",
   "execution_count": 25,
   "metadata": {},
   "outputs": [],
   "source": [
    "class Transformer(tf.keras.Model):\n",
    "    def __init__(self, *, num_layers, d_model, num_heads, ff_dim,\n",
    "                vocab_size, dropout_rate=0.1):\n",
    "        super().__init__()\n",
    "\n",
    "        self.encoder = Encoder(num_heads=num_heads,\n",
    "                               d_model=d_model,\n",
    "                               vocab_size=vocab_size,\n",
    "                               ff_dim=ff_dim,\n",
    "                               num_layers=num_layers,\n",
    "                               dropout_rate=dropout_rate,)\n",
    "        \n",
    "        self.decoder = Decoder(num_heads=num_heads,\n",
    "                               d_model=d_model,\n",
    "                               vocab_size=vocab_size,\n",
    "                               ff_dim=ff_dim,\n",
    "                               num_layers=num_layers,\n",
    "                               dropout_rate=dropout_rate,)\n",
    "        \n",
    "        self.final_layer = Dense(vocab_size)\n",
    "        \n",
    "    def call(self, inputs):\n",
    "        context, x  = inputs\n",
    "\n",
    "        context = self.encoder(context)\n",
    "        x = self.decoder(x, context)\n",
    "    \n",
    "        logits = self.final_layer(x)\n",
    "\n",
    "        try:\n",
    "            # Drop the keras mask, so it doesn't scale the losses/metrics.\n",
    "            # b/250038731\n",
    "            del logits._keras_mask\n",
    "        except AttributeError:\n",
    "            pass\n",
    "\n",
    "        # Return the final output and the attention weights.\n",
    "        return logits"
   ]
  },
  {
   "cell_type": "code",
   "execution_count": 64,
   "metadata": {},
   "outputs": [],
   "source": [
    "N_LAYERS = 4\n",
    "D_MODEL = 128\n",
    "D_FF = 512\n",
    "N_HEADS = 8\n",
    "DROPOUT_RATE = 0.2\n",
    "transformer = Transformer(\n",
    "    num_layers=N_LAYERS,\n",
    "    d_model=D_MODEL,\n",
    "    num_heads=N_HEADS,\n",
    "    ff_dim=D_FF,\n",
    "    vocab_size=VOCAB_SIZE,\n",
    "    dropout_rate=DROPOUT_RATE\n",
    ")"
   ]
  },
  {
   "cell_type": "code",
   "execution_count": 65,
   "metadata": {},
   "outputs": [],
   "source": [
    "batches = train_ds.take(2)\n",
    "for batch in batches:\n",
    "    X_try, y_try = batch[0], batch[1]\n",
    "    break"
   ]
  },
  {
   "cell_type": "code",
   "execution_count": 66,
   "metadata": {},
   "outputs": [
    {
     "data": {
      "text/plain": [
       "TensorShape([32, 7, 5000])"
      ]
     },
     "execution_count": 66,
     "metadata": {},
     "output_type": "execute_result"
    }
   ],
   "source": [
    "output = transformer(X_try)\n",
    "output.shape\n"
   ]
  },
  {
   "cell_type": "code",
   "execution_count": 67,
   "metadata": {},
   "outputs": [
    {
     "name": "stdout",
     "output_type": "stream",
     "text": [
      "Model: \"transformer_2\"\n",
      "_________________________________________________________________\n",
      " Layer (type)                Output Shape              Param #   \n",
      "=================================================================\n",
      " encoder_2 (Encoder)         multiple                  3278848   \n",
      "                                                                 \n",
      " decoder_2 (Decoder)         multiple                  5389824   \n",
      "                                                                 \n",
      " dense_50 (Dense)            multiple                  645000    \n",
      "                                                                 \n",
      "=================================================================\n",
      "Total params: 9,313,672\n",
      "Trainable params: 9,313,672\n",
      "Non-trainable params: 0\n",
      "_________________________________________________________________\n"
     ]
    }
   ],
   "source": [
    "transformer.summary()"
   ]
  },
  {
   "cell_type": "code",
   "execution_count": null,
   "metadata": {},
   "outputs": [],
   "source": []
  },
  {
   "cell_type": "code",
   "execution_count": 30,
   "metadata": {},
   "outputs": [],
   "source": [
    "class CustomSchedule(tf.keras.optimizers.schedules.LearningRateSchedule):\n",
    "    def __init__(self, d_model, warmup_steps=4000):\n",
    "        super().__init__()\n",
    "\n",
    "        self.d_model = d_model\n",
    "        self.d_model = tf.cast(self.d_model, tf.float32)\n",
    "\n",
    "        self.warmup_steps = warmup_steps\n",
    "\n",
    "    def __call__(self, step):\n",
    "        step = tf.cast(step, dtype=tf.float32)\n",
    "        arg1 = tf.math.rsqrt(step)\n",
    "        arg2 = step * (self.warmup_steps ** -1.5)\n",
    "\n",
    "        return tf.math.rsqrt(self.d_model) * tf.math.minimum(arg1, arg2)"
   ]
  },
  {
   "cell_type": "code",
   "execution_count": 68,
   "metadata": {},
   "outputs": [],
   "source": [
    "learning_rate = CustomSchedule(D_MODEL)\n",
    "\n",
    "optimizer = tf.keras.optimizers.Adam(\n",
    "    learning_rate, \n",
    "    beta_1=0.9, \n",
    "    beta_2=0.98,\n",
    "    epsilon=1e-9\n",
    ")"
   ]
  },
  {
   "cell_type": "code",
   "execution_count": 32,
   "metadata": {},
   "outputs": [],
   "source": [
    "def masked_loss(label, pred):\n",
    "    mask = label != 0\n",
    "    loss_object = tf.keras.losses.SparseCategoricalCrossentropy(\n",
    "        from_logits=True, reduction='none')\n",
    "    loss = loss_object(label, pred)\n",
    "\n",
    "    mask = tf.cast(mask, dtype=loss.dtype)\n",
    "    loss *= mask\n",
    "\n",
    "    loss = tf.reduce_sum(loss)/tf.reduce_sum(mask)\n",
    "\n",
    "    return loss\n",
    "\n",
    "\n",
    "def masked_accuracy(label, pred):\n",
    "    pred = tf.argmax(pred, axis=2)\n",
    "    label = tf.cast(label, pred.dtype)\n",
    "    match = label == pred\n",
    "\n",
    "    mask = label != 0\n",
    "\n",
    "    match = match & mask\n",
    "\n",
    "    match = tf.cast(match, dtype=tf.float32)\n",
    "    mask = tf.cast(mask, dtype=tf.float32)\n",
    "    \n",
    "    return tf.reduce_sum(match)/tf.reduce_sum(mask)\n",
    "\n",
    "def compute_perplexity(logits, targets):\n",
    "    loss_fn = tf.keras.losses.SparseCategoricalCrossentropy(\n",
    "        from_logits=True, reduction='none')\n",
    "\n",
    "    loss = loss_fn(targets, logits)\n",
    "\n",
    "    perplexity = np.exp(np.mean(loss))\n",
    "\n",
    "    return perplexity\n",
    "\n",
    "\n",
    "def compute_bleu(predicted, targets):\n",
    "    predicted_strings = []\n",
    "    for seq in predicted:\n",
    "        seq = np.argmax(seq, axis=1)\n",
    "        string_seq = \" \".join([tokenizer.sequences_to_texts([[token]])[0] for token in seq if token != 0])\n",
    "        predicted_strings.append(string_seq)\n",
    "    target_strings = []\n",
    "    for seq in targets:\n",
    "        seq = seq.numpy().tolist()\n",
    "        string_seq = \" \".join([tokenizer.sequences_to_texts([[token]])[0] for token in seq if token != 0])\n",
    "        target_strings.append([string_seq])  \n",
    "\n",
    "    bleu_score = corpus_bleu(target_strings, predicted_strings)\n",
    "\n",
    "    return bleu_score"
   ]
  },
  {
   "cell_type": "code",
   "execution_count": 69,
   "metadata": {},
   "outputs": [],
   "source": [
    "# Khai báo một số giá trị siêu tham số\n",
    "EPOCHS = 30\n"
   ]
  },
  {
   "cell_type": "code",
   "execution_count": 70,
   "metadata": {},
   "outputs": [],
   "source": [
    "transformer.compile(\n",
    "    loss=masked_loss,\n",
    "    optimizer=optimizer,\n",
    "    metrics=[masked_accuracy]\n",
    ")"
   ]
  },
  {
   "cell_type": "code",
   "execution_count": 71,
   "metadata": {},
   "outputs": [
    {
     "name": "stdout",
     "output_type": "stream",
     "text": [
      "Epoch 1/30\n",
      "WARNING:tensorflow:Gradients do not exist for variables ['transformer_2/decoder_2/decoder_layer_8/causal_self_attention_8/multi_head_attention_28/query/kernel:0', 'transformer_2/decoder_2/decoder_layer_8/causal_self_attention_8/multi_head_attention_28/query/bias:0', 'transformer_2/decoder_2/decoder_layer_8/causal_self_attention_8/multi_head_attention_28/key/kernel:0', 'transformer_2/decoder_2/decoder_layer_8/causal_self_attention_8/multi_head_attention_28/key/bias:0', 'transformer_2/decoder_2/decoder_layer_8/causal_self_attention_8/multi_head_attention_28/value/kernel:0', 'transformer_2/decoder_2/decoder_layer_8/causal_self_attention_8/multi_head_attention_28/value/bias:0', 'transformer_2/decoder_2/decoder_layer_8/causal_self_attention_8/multi_head_attention_28/attention_output/kernel:0', 'transformer_2/decoder_2/decoder_layer_8/causal_self_attention_8/multi_head_attention_28/attention_output/bias:0', 'transformer_2/decoder_2/decoder_layer_8/causal_self_attention_8/layer_normalization_48/gamma:0', 'transformer_2/decoder_2/decoder_layer_8/causal_self_attention_8/layer_normalization_48/beta:0', 'transformer_2/decoder_2/decoder_layer_8/cross_attention_8/multi_head_attention_29/query/kernel:0', 'transformer_2/decoder_2/decoder_layer_8/cross_attention_8/multi_head_attention_29/query/bias:0', 'transformer_2/decoder_2/decoder_layer_8/cross_attention_8/multi_head_attention_29/key/kernel:0', 'transformer_2/decoder_2/decoder_layer_8/cross_attention_8/multi_head_attention_29/key/bias:0', 'transformer_2/decoder_2/decoder_layer_8/cross_attention_8/multi_head_attention_29/value/kernel:0', 'transformer_2/decoder_2/decoder_layer_8/cross_attention_8/multi_head_attention_29/value/bias:0', 'transformer_2/decoder_2/decoder_layer_8/cross_attention_8/multi_head_attention_29/attention_output/kernel:0', 'transformer_2/decoder_2/decoder_layer_8/cross_attention_8/multi_head_attention_29/attention_output/bias:0', 'transformer_2/decoder_2/decoder_layer_8/cross_attention_8/layer_normalization_49/gamma:0', 'transformer_2/decoder_2/decoder_layer_8/cross_attention_8/layer_normalization_49/beta:0', 'dense_42/kernel:0', 'dense_42/bias:0', 'dense_43/kernel:0', 'dense_43/bias:0', 'transformer_2/decoder_2/decoder_layer_8/feedforward_20/layer_normalization_50/gamma:0', 'transformer_2/decoder_2/decoder_layer_8/feedforward_20/layer_normalization_50/beta:0', 'transformer_2/decoder_2/decoder_layer_9/causal_self_attention_9/multi_head_attention_30/query/kernel:0', 'transformer_2/decoder_2/decoder_layer_9/causal_self_attention_9/multi_head_attention_30/query/bias:0', 'transformer_2/decoder_2/decoder_layer_9/causal_self_attention_9/multi_head_attention_30/key/kernel:0', 'transformer_2/decoder_2/decoder_layer_9/causal_self_attention_9/multi_head_attention_30/key/bias:0', 'transformer_2/decoder_2/decoder_layer_9/causal_self_attention_9/multi_head_attention_30/value/kernel:0', 'transformer_2/decoder_2/decoder_layer_9/causal_self_attention_9/multi_head_attention_30/value/bias:0', 'transformer_2/decoder_2/decoder_layer_9/causal_self_attention_9/multi_head_attention_30/attention_output/kernel:0', 'transformer_2/decoder_2/decoder_layer_9/causal_self_attention_9/multi_head_attention_30/attention_output/bias:0', 'transformer_2/decoder_2/decoder_layer_9/causal_self_attention_9/layer_normalization_51/gamma:0', 'transformer_2/decoder_2/decoder_layer_9/causal_self_attention_9/layer_normalization_51/beta:0', 'transformer_2/decoder_2/decoder_layer_9/cross_attention_9/multi_head_attention_31/query/kernel:0', 'transformer_2/decoder_2/decoder_layer_9/cross_attention_9/multi_head_attention_31/query/bias:0', 'transformer_2/decoder_2/decoder_layer_9/cross_attention_9/multi_head_attention_31/key/kernel:0', 'transformer_2/decoder_2/decoder_layer_9/cross_attention_9/multi_head_attention_31/key/bias:0', 'transformer_2/decoder_2/decoder_layer_9/cross_attention_9/multi_head_attention_31/value/kernel:0', 'transformer_2/decoder_2/decoder_layer_9/cross_attention_9/multi_head_attention_31/value/bias:0', 'transformer_2/decoder_2/decoder_layer_9/cross_attention_9/multi_head_attention_31/attention_output/kernel:0', 'transformer_2/decoder_2/decoder_layer_9/cross_attention_9/multi_head_attention_31/attention_output/bias:0', 'transformer_2/decoder_2/decoder_layer_9/cross_attention_9/layer_normalization_52/gamma:0', 'transformer_2/decoder_2/decoder_layer_9/cross_attention_9/layer_normalization_52/beta:0', 'dense_44/kernel:0', 'dense_44/bias:0', 'dense_45/kernel:0', 'dense_45/bias:0', 'transformer_2/decoder_2/decoder_layer_9/feedforward_21/layer_normalization_53/gamma:0', 'transformer_2/decoder_2/decoder_layer_9/feedforward_21/layer_normalization_53/beta:0', 'transformer_2/decoder_2/decoder_layer_10/causal_self_attention_10/multi_head_attention_32/query/kernel:0', 'transformer_2/decoder_2/decoder_layer_10/causal_self_attention_10/multi_head_attention_32/query/bias:0', 'transformer_2/decoder_2/decoder_layer_10/causal_self_attention_10/multi_head_attention_32/key/kernel:0', 'transformer_2/decoder_2/decoder_layer_10/causal_self_attention_10/multi_head_attention_32/key/bias:0', 'transformer_2/decoder_2/decoder_layer_10/causal_self_attention_10/multi_head_attention_32/value/kernel:0', 'transformer_2/decoder_2/decoder_layer_10/causal_self_attention_10/multi_head_attention_32/value/bias:0', 'transformer_2/decoder_2/decoder_layer_10/causal_self_attention_10/multi_head_attention_32/attention_output/kernel:0', 'transformer_2/decoder_2/decoder_layer_10/causal_self_attention_10/multi_head_attention_32/attention_output/bias:0', 'transformer_2/decoder_2/decoder_layer_10/causal_self_attention_10/layer_normalization_54/gamma:0', 'transformer_2/decoder_2/decoder_layer_10/causal_self_attention_10/layer_normalization_54/beta:0', 'transformer_2/decoder_2/decoder_layer_10/cross_attention_10/multi_head_attention_33/query/kernel:0', 'transformer_2/decoder_2/decoder_layer_10/cross_attention_10/multi_head_attention_33/query/bias:0', 'transformer_2/decoder_2/decoder_layer_10/cross_attention_10/multi_head_attention_33/key/kernel:0', 'transformer_2/decoder_2/decoder_layer_10/cross_attention_10/multi_head_attention_33/key/bias:0', 'transformer_2/decoder_2/decoder_layer_10/cross_attention_10/multi_head_attention_33/value/kernel:0', 'transformer_2/decoder_2/decoder_layer_10/cross_attention_10/multi_head_attention_33/value/bias:0', 'transformer_2/decoder_2/decoder_layer_10/cross_attention_10/multi_head_attention_33/attention_output/kernel:0', 'transformer_2/decoder_2/decoder_layer_10/cross_attention_10/multi_head_attention_33/attention_output/bias:0', 'transformer_2/decoder_2/decoder_layer_10/cross_attention_10/layer_normalization_55/gamma:0', 'transformer_2/decoder_2/decoder_layer_10/cross_attention_10/layer_normalization_55/beta:0', 'dense_46/kernel:0', 'dense_46/bias:0', 'dense_47/kernel:0', 'dense_47/bias:0', 'transformer_2/decoder_2/decoder_layer_10/feedforward_22/layer_normalization_56/gamma:0', 'transformer_2/decoder_2/decoder_layer_10/feedforward_22/layer_normalization_56/beta:0'] when minimizing the loss. If you're using `model.compile()`, did you forget to provide a `loss` argument?\n",
      "WARNING:tensorflow:Gradients do not exist for variables ['transformer_2/decoder_2/decoder_layer_8/causal_self_attention_8/multi_head_attention_28/query/kernel:0', 'transformer_2/decoder_2/decoder_layer_8/causal_self_attention_8/multi_head_attention_28/query/bias:0', 'transformer_2/decoder_2/decoder_layer_8/causal_self_attention_8/multi_head_attention_28/key/kernel:0', 'transformer_2/decoder_2/decoder_layer_8/causal_self_attention_8/multi_head_attention_28/key/bias:0', 'transformer_2/decoder_2/decoder_layer_8/causal_self_attention_8/multi_head_attention_28/value/kernel:0', 'transformer_2/decoder_2/decoder_layer_8/causal_self_attention_8/multi_head_attention_28/value/bias:0', 'transformer_2/decoder_2/decoder_layer_8/causal_self_attention_8/multi_head_attention_28/attention_output/kernel:0', 'transformer_2/decoder_2/decoder_layer_8/causal_self_attention_8/multi_head_attention_28/attention_output/bias:0', 'transformer_2/decoder_2/decoder_layer_8/causal_self_attention_8/layer_normalization_48/gamma:0', 'transformer_2/decoder_2/decoder_layer_8/causal_self_attention_8/layer_normalization_48/beta:0', 'transformer_2/decoder_2/decoder_layer_8/cross_attention_8/multi_head_attention_29/query/kernel:0', 'transformer_2/decoder_2/decoder_layer_8/cross_attention_8/multi_head_attention_29/query/bias:0', 'transformer_2/decoder_2/decoder_layer_8/cross_attention_8/multi_head_attention_29/key/kernel:0', 'transformer_2/decoder_2/decoder_layer_8/cross_attention_8/multi_head_attention_29/key/bias:0', 'transformer_2/decoder_2/decoder_layer_8/cross_attention_8/multi_head_attention_29/value/kernel:0', 'transformer_2/decoder_2/decoder_layer_8/cross_attention_8/multi_head_attention_29/value/bias:0', 'transformer_2/decoder_2/decoder_layer_8/cross_attention_8/multi_head_attention_29/attention_output/kernel:0', 'transformer_2/decoder_2/decoder_layer_8/cross_attention_8/multi_head_attention_29/attention_output/bias:0', 'transformer_2/decoder_2/decoder_layer_8/cross_attention_8/layer_normalization_49/gamma:0', 'transformer_2/decoder_2/decoder_layer_8/cross_attention_8/layer_normalization_49/beta:0', 'dense_42/kernel:0', 'dense_42/bias:0', 'dense_43/kernel:0', 'dense_43/bias:0', 'transformer_2/decoder_2/decoder_layer_8/feedforward_20/layer_normalization_50/gamma:0', 'transformer_2/decoder_2/decoder_layer_8/feedforward_20/layer_normalization_50/beta:0', 'transformer_2/decoder_2/decoder_layer_9/causal_self_attention_9/multi_head_attention_30/query/kernel:0', 'transformer_2/decoder_2/decoder_layer_9/causal_self_attention_9/multi_head_attention_30/query/bias:0', 'transformer_2/decoder_2/decoder_layer_9/causal_self_attention_9/multi_head_attention_30/key/kernel:0', 'transformer_2/decoder_2/decoder_layer_9/causal_self_attention_9/multi_head_attention_30/key/bias:0', 'transformer_2/decoder_2/decoder_layer_9/causal_self_attention_9/multi_head_attention_30/value/kernel:0', 'transformer_2/decoder_2/decoder_layer_9/causal_self_attention_9/multi_head_attention_30/value/bias:0', 'transformer_2/decoder_2/decoder_layer_9/causal_self_attention_9/multi_head_attention_30/attention_output/kernel:0', 'transformer_2/decoder_2/decoder_layer_9/causal_self_attention_9/multi_head_attention_30/attention_output/bias:0', 'transformer_2/decoder_2/decoder_layer_9/causal_self_attention_9/layer_normalization_51/gamma:0', 'transformer_2/decoder_2/decoder_layer_9/causal_self_attention_9/layer_normalization_51/beta:0', 'transformer_2/decoder_2/decoder_layer_9/cross_attention_9/multi_head_attention_31/query/kernel:0', 'transformer_2/decoder_2/decoder_layer_9/cross_attention_9/multi_head_attention_31/query/bias:0', 'transformer_2/decoder_2/decoder_layer_9/cross_attention_9/multi_head_attention_31/key/kernel:0', 'transformer_2/decoder_2/decoder_layer_9/cross_attention_9/multi_head_attention_31/key/bias:0', 'transformer_2/decoder_2/decoder_layer_9/cross_attention_9/multi_head_attention_31/value/kernel:0', 'transformer_2/decoder_2/decoder_layer_9/cross_attention_9/multi_head_attention_31/value/bias:0', 'transformer_2/decoder_2/decoder_layer_9/cross_attention_9/multi_head_attention_31/attention_output/kernel:0', 'transformer_2/decoder_2/decoder_layer_9/cross_attention_9/multi_head_attention_31/attention_output/bias:0', 'transformer_2/decoder_2/decoder_layer_9/cross_attention_9/layer_normalization_52/gamma:0', 'transformer_2/decoder_2/decoder_layer_9/cross_attention_9/layer_normalization_52/beta:0', 'dense_44/kernel:0', 'dense_44/bias:0', 'dense_45/kernel:0', 'dense_45/bias:0', 'transformer_2/decoder_2/decoder_layer_9/feedforward_21/layer_normalization_53/gamma:0', 'transformer_2/decoder_2/decoder_layer_9/feedforward_21/layer_normalization_53/beta:0', 'transformer_2/decoder_2/decoder_layer_10/causal_self_attention_10/multi_head_attention_32/query/kernel:0', 'transformer_2/decoder_2/decoder_layer_10/causal_self_attention_10/multi_head_attention_32/query/bias:0', 'transformer_2/decoder_2/decoder_layer_10/causal_self_attention_10/multi_head_attention_32/key/kernel:0', 'transformer_2/decoder_2/decoder_layer_10/causal_self_attention_10/multi_head_attention_32/key/bias:0', 'transformer_2/decoder_2/decoder_layer_10/causal_self_attention_10/multi_head_attention_32/value/kernel:0', 'transformer_2/decoder_2/decoder_layer_10/causal_self_attention_10/multi_head_attention_32/value/bias:0', 'transformer_2/decoder_2/decoder_layer_10/causal_self_attention_10/multi_head_attention_32/attention_output/kernel:0', 'transformer_2/decoder_2/decoder_layer_10/causal_self_attention_10/multi_head_attention_32/attention_output/bias:0', 'transformer_2/decoder_2/decoder_layer_10/causal_self_attention_10/layer_normalization_54/gamma:0', 'transformer_2/decoder_2/decoder_layer_10/causal_self_attention_10/layer_normalization_54/beta:0', 'transformer_2/decoder_2/decoder_layer_10/cross_attention_10/multi_head_attention_33/query/kernel:0', 'transformer_2/decoder_2/decoder_layer_10/cross_attention_10/multi_head_attention_33/query/bias:0', 'transformer_2/decoder_2/decoder_layer_10/cross_attention_10/multi_head_attention_33/key/kernel:0', 'transformer_2/decoder_2/decoder_layer_10/cross_attention_10/multi_head_attention_33/key/bias:0', 'transformer_2/decoder_2/decoder_layer_10/cross_attention_10/multi_head_attention_33/value/kernel:0', 'transformer_2/decoder_2/decoder_layer_10/cross_attention_10/multi_head_attention_33/value/bias:0', 'transformer_2/decoder_2/decoder_layer_10/cross_attention_10/multi_head_attention_33/attention_output/kernel:0', 'transformer_2/decoder_2/decoder_layer_10/cross_attention_10/multi_head_attention_33/attention_output/bias:0', 'transformer_2/decoder_2/decoder_layer_10/cross_attention_10/layer_normalization_55/gamma:0', 'transformer_2/decoder_2/decoder_layer_10/cross_attention_10/layer_normalization_55/beta:0', 'dense_46/kernel:0', 'dense_46/bias:0', 'dense_47/kernel:0', 'dense_47/bias:0', 'transformer_2/decoder_2/decoder_layer_10/feedforward_22/layer_normalization_56/gamma:0', 'transformer_2/decoder_2/decoder_layer_10/feedforward_22/layer_normalization_56/beta:0'] when minimizing the loss. If you're using `model.compile()`, did you forget to provide a `loss` argument?\n",
      "17/17 [==============================] - 11s 189ms/step - loss: 8.5375 - masked_accuracy: 0.0000e+00 - val_loss: 8.5330 - val_masked_accuracy: 0.0000e+00\n",
      "Epoch 2/30\n",
      "17/17 [==============================] - 1s 35ms/step - loss: 8.5029 - masked_accuracy: 0.0000e+00 - val_loss: 8.4736 - val_masked_accuracy: 0.0021\n",
      "Epoch 3/30\n",
      "17/17 [==============================] - 1s 35ms/step - loss: 8.4314 - masked_accuracy: 0.0071 - val_loss: 8.3804 - val_masked_accuracy: 0.0625\n",
      "Epoch 4/30\n",
      "17/17 [==============================] - 1s 36ms/step - loss: 8.3293 - masked_accuracy: 0.1192 - val_loss: 8.2662 - val_masked_accuracy: 0.1667\n",
      "Epoch 5/30\n",
      "17/17 [==============================] - 1s 38ms/step - loss: 8.2090 - masked_accuracy: 0.1667 - val_loss: 8.1474 - val_masked_accuracy: 0.1667\n",
      "Epoch 6/30\n",
      "17/17 [==============================] - 1s 35ms/step - loss: 8.0852 - masked_accuracy: 0.1667 - val_loss: 8.0348 - val_masked_accuracy: 0.1667\n",
      "Epoch 7/30\n",
      "17/17 [==============================] - 1s 38ms/step - loss: 7.9594 - masked_accuracy: 0.1667 - val_loss: 7.9264 - val_masked_accuracy: 0.1667\n",
      "Epoch 8/30\n",
      "17/17 [==============================] - 1s 35ms/step - loss: 7.8327 - masked_accuracy: 0.1667 - val_loss: 7.8161 - val_masked_accuracy: 0.1667\n",
      "Epoch 9/30\n",
      "17/17 [==============================] - 1s 34ms/step - loss: 7.6982 - masked_accuracy: 0.1667 - val_loss: 7.7009 - val_masked_accuracy: 0.1667\n",
      "Epoch 10/30\n",
      "17/17 [==============================] - 1s 34ms/step - loss: 7.5567 - masked_accuracy: 0.1667 - val_loss: 7.5803 - val_masked_accuracy: 0.1667\n",
      "Epoch 11/30\n",
      "17/17 [==============================] - 1s 35ms/step - loss: 7.4103 - masked_accuracy: 0.1667 - val_loss: 7.4540 - val_masked_accuracy: 0.1667\n",
      "Epoch 12/30\n",
      "17/17 [==============================] - 1s 34ms/step - loss: 7.2544 - masked_accuracy: 0.1667 - val_loss: 7.3241 - val_masked_accuracy: 0.1667\n",
      "Epoch 13/30\n",
      "17/17 [==============================] - 1s 34ms/step - loss: 7.0943 - masked_accuracy: 0.1667 - val_loss: 7.1932 - val_masked_accuracy: 0.1667\n",
      "Epoch 14/30\n",
      "17/17 [==============================] - 1s 35ms/step - loss: 6.9334 - masked_accuracy: 0.1667 - val_loss: 7.0638 - val_masked_accuracy: 0.1667\n",
      "Epoch 15/30\n",
      "17/17 [==============================] - 1s 34ms/step - loss: 6.7728 - masked_accuracy: 0.1667 - val_loss: 6.9389 - val_masked_accuracy: 0.1667\n",
      "Epoch 16/30\n",
      "17/17 [==============================] - 1s 36ms/step - loss: 6.6154 - masked_accuracy: 0.1667 - val_loss: 6.8208 - val_masked_accuracy: 0.1667\n",
      "Epoch 17/30\n",
      "17/17 [==============================] - 1s 37ms/step - loss: 6.4662 - masked_accuracy: 0.1667 - val_loss: 6.7118 - val_masked_accuracy: 0.1667\n",
      "Epoch 18/30\n",
      "17/17 [==============================] - 1s 34ms/step - loss: 6.3276 - masked_accuracy: 0.1667 - val_loss: 6.6143 - val_masked_accuracy: 0.1667\n",
      "Epoch 19/30\n",
      "17/17 [==============================] - 1s 34ms/step - loss: 6.1991 - masked_accuracy: 0.1667 - val_loss: 6.5289 - val_masked_accuracy: 0.1667\n",
      "Epoch 20/30\n",
      "17/17 [==============================] - 1s 35ms/step - loss: 6.0839 - masked_accuracy: 0.1667 - val_loss: 6.4556 - val_masked_accuracy: 0.1667\n",
      "Epoch 21/30\n",
      "17/17 [==============================] - 1s 34ms/step - loss: 5.9825 - masked_accuracy: 0.1667 - val_loss: 6.3937 - val_masked_accuracy: 0.1667\n",
      "Epoch 22/30\n",
      "17/17 [==============================] - 1s 34ms/step - loss: 5.8916 - masked_accuracy: 0.1667 - val_loss: 6.3401 - val_masked_accuracy: 0.1667\n",
      "Epoch 23/30\n",
      "17/17 [==============================] - 1s 34ms/step - loss: 5.8089 - masked_accuracy: 0.1667 - val_loss: 6.2928 - val_masked_accuracy: 0.1667\n",
      "Epoch 24/30\n",
      "17/17 [==============================] - 1s 36ms/step - loss: 5.7298 - masked_accuracy: 0.1667 - val_loss: 6.2443 - val_masked_accuracy: 0.1667\n",
      "Epoch 25/30\n",
      "17/17 [==============================] - 1s 37ms/step - loss: 5.6503 - masked_accuracy: 0.1667 - val_loss: 6.1889 - val_masked_accuracy: 0.1667\n",
      "Epoch 26/30\n",
      "17/17 [==============================] - 1s 37ms/step - loss: 5.5639 - masked_accuracy: 0.1667 - val_loss: 6.1138 - val_masked_accuracy: 0.1667\n",
      "Epoch 27/30\n",
      "17/17 [==============================] - 1s 35ms/step - loss: 5.4735 - masked_accuracy: 0.1667 - val_loss: 6.0478 - val_masked_accuracy: 0.1667\n",
      "Epoch 28/30\n",
      "17/17 [==============================] - 1s 35ms/step - loss: 5.3769 - masked_accuracy: 0.1670 - val_loss: 5.9840 - val_masked_accuracy: 0.1667\n",
      "Epoch 29/30\n",
      "17/17 [==============================] - 1s 34ms/step - loss: 5.2755 - masked_accuracy: 0.1667 - val_loss: 5.9242 - val_masked_accuracy: 0.1667\n",
      "Epoch 30/30\n",
      "17/17 [==============================] - 1s 34ms/step - loss: 5.1742 - masked_accuracy: 0.1667 - val_loss: 5.8389 - val_masked_accuracy: 0.1667\n"
     ]
    }
   ],
   "source": [
    "history = transformer.fit(\n",
    "    train_ds,\n",
    "    epochs=EPOCHS,\n",
    "    validation_data=val_ds\n",
    ")"
   ]
  },
  {
   "cell_type": "code",
   "execution_count": 55,
   "metadata": {},
   "outputs": [
    {
     "name": "stdout",
     "output_type": "stream",
     "text": [
      "3/3 [==============================] - 0s 44ms/step - loss: 5.7151 - masked_accuracy: 0.1667\n"
     ]
    }
   ],
   "source": [
    "# Đánh giá mô hình trên tập test\n",
    "test_evaluation = transformer.evaluate(test_ds)"
   ]
  },
  {
   "cell_type": "code",
   "execution_count": 56,
   "metadata": {},
   "outputs": [
    {
     "data": {
      "image/png": "[encoded data removed]",
      "text/plain": [
       "<Figure size 1000x1000 with 4 Axes>"
      ]
     },
     "metadata": {},
     "output_type": "display_data"
    }
   ],
   "source": [
    "\n",
    "# Đọc các kết quả huấn luyện mô hình qua từng epoch\n",
    "train_loss, train_acc = history.history['loss'], history.history['masked_accuracy'] # Đọc thông tin loss, acc trên tập train\n",
    "val_loss, val_acc = history.history['val_loss'], history.history['val_masked_accuracy'] # Đọc thông tin loss, acc trên tập val\n",
    "\n",
    "plt.figure(figsize=(10, 10)) # Cài đặt kích thước khung ảnh\n",
    "\n",
    "plt.subplot(2, 2, 1) # Khởi tạo khung ảnh cho training loss\n",
    "plt.xlabel('Epochs') # Hiển thị tên trục hoành là 'Epochs'\n",
    "plt.ylabel('Loss') # Hiển thị tên trục tung là 'Loss'\n",
    "plt.title('Training loss') # Hiển thị title của khung ảnh hiện tại là 'Training Loss'\n",
    "plt.plot(train_loss, color='green') # Vẽ đường giá trị loss trên tập train qua từng epoch (đường vẽ màu đỏ)\n",
    "\n",
    "plt.subplot(2, 2, 2) # Khởi tạo khung ảnh cho training acc\n",
    "plt.xlabel('Epochs') # Hiển thị tên trục hoành là 'Epochs'\n",
    "plt.ylabel('Accuracy') # Hiển thị tên trục tung là 'Accuracy'\n",
    "plt.title('Training accuracy') # Hiển thị title của khung ảnh hiện tại là 'Training accuracy'\n",
    "plt.plot(train_acc, color='orange') # Vẽ đường giá trị accuracy trên tập train qua từng epoch (đường vẽ màu cam)\n",
    "\n",
    "plt.subplot(2, 2, 3) # Khởi tạo khung ảnh cho val loss\n",
    "plt.xlabel('Epochs') # Hiển thị tên trục hoành là 'Epochs'\n",
    "plt.ylabel('Loss') # Hiển thị tên trục tung là 'Loss'\n",
    "plt.title('Validation loss') # Hiển thị title của khung ảnh hiện tại là 'Validation loss'\n",
    "plt.plot(val_loss, color='green') # Vẽ đường giá trị loss trên tập val qua từng epoch (đường vẽ màu đỏ)\n",
    "\n",
    "plt.subplot(2, 2, 4) # Khởi tạo khung ảnh cho val acc\n",
    "plt.xlabel('Epochs') # Hiển thị tên trục hoành là 'Epochs'\n",
    "plt.ylabel('Accuracy') # Hiển thị tên trục tung là 'Accuracy'\n",
    "plt.title('Validation accuracy') # Hiển thị title của khung ảnh hiện tại là 'Validation accuracy'\n",
    "plt.plot(val_acc, color='orange') # Vẽ đường giá trị accuracy trên tập val qua từng epoch (đường vẽ màu cam)\n",
    "\n",
    "plt.show() # Hiển thị 4 khung ảnh nhỏ"
   ]
  },
  {
   "cell_type": "code",
   "execution_count": 57,
   "metadata": {},
   "outputs": [],
   "source": [
    "def generate_text(\n",
    "    generator_model, \n",
    "    tokenizer,\n",
    "    input_string\n",
    "    ):\n",
    "    \n",
    "    encoder_input_string = text_normalize(input_string) \n",
    "    encoder_input_sequence = tokenizer.texts_to_sequences([encoder_input_string])\n",
    "    encoder_input_padded_sequence = pad_sequences(encoder_input_sequence, maxlen=MAX_SEQ_LEN, truncating='pre', padding='post')[0]\n",
    "    encoder_input_padded_sequence = np.expand_dims(encoder_input_padded_sequence, axis=0)\n",
    "\n",
    "    decoder_input_string = '<start>'\n",
    "    decoder_input_sequence = tokenizer.texts_to_sequences([decoder_input_string])\n",
    "    decoder_input_padded_sequence = pad_sequences(decoder_input_sequence, maxlen=MAX_SEQ_LEN, truncating='pre', padding='post')[0]\n",
    "    start = decoder_input_padded_sequence[0][tf.newaxis]\n",
    "    end = decoder_input_padded_sequence[1][tf.newaxis]\n",
    "    decoder_input_padded_sequence = np.expand_dims(decoder_input_padded_sequence, axis=0)\n",
    "\n",
    "    output_array = tf.TensorArray(dtype=tf.int64, size=0, dynamic_size=True)\n",
    "    output_array = output_array.write(0, start)\n",
    "\n",
    "    for i in tf.range(MAX_SEQ_LEN):\n",
    "        output = tf.transpose(output_array.stack())\n",
    "        predictions = generator_model((encoder_input_padded_sequence, output), training=False)\n",
    "\n",
    "        # Select the last token from the `seq_len` dimension.\n",
    "        predictions = predictions[:, -1:, :]  # Shape `(batch_size, 1, vocab_size)`.\n",
    "\n",
    "        predicted_id = tf.argmax(predictions, axis=-1)\n",
    "\n",
    "        # Concatenate the `predicted_id` to the output which is given to the\n",
    "        # decoder as its input.\n",
    "        output_array = output_array.write(i+1, predicted_id[0])\n",
    "\n",
    "        if predicted_id == end:\n",
    "            break\n",
    "\n",
    "    output = tf.transpose(output_array.stack())\n",
    "    output_tokens = output.numpy()\n",
    "    # The output shape is `(1, tokens)`.\n",
    "    text = tokenizer.sequences_to_texts(output_tokens)[0]  # Shape: `()`.\n",
    "\n",
    "\n",
    "    # `tf.function` prevents us from using the attention_weights that were\n",
    "    # calculated on the last iteration of the loop.\n",
    "    # So, recalculate them outside the loop.\n",
    "    generator_model([decoder_input_padded_sequence, output[:, :-1]], training=False)\n",
    "    attention_weights = generator_model.decoder.attention_scores\n",
    "\n",
    "    return text, output_tokens, attention_weights"
   ]
  },
  {
   "cell_type": "code",
   "execution_count": 59,
   "metadata": {},
   "outputs": [
    {
     "name": "stdout",
     "output_type": "stream",
     "text": [
      "em đi anh lạc đường\n",
      "       \n",
      "       \n",
      "       \n"
     ]
    }
   ],
   "source": [
    "n_sentences = 2\n",
    "results = ['em đi anh lạc đường']\n",
    "for idx in range(n_sentences + 1):\n",
    "    input_str = results[idx]\n",
    "    text, output_tokens, attention_weights = generate_text(\n",
    "        transformer, \n",
    "        tokenizer,\n",
    "        input_str\n",
    "    )\n",
    "    results.append(text.replace('<start>', '').replace('<end>', ''))\n",
    "\n",
    "print('\\n'.join(results))"
   ]
  },
  {
   "cell_type": "code",
   "execution_count": null,
   "metadata": {},
   "outputs": [],
   "source": []
  },
  {
   "cell_type": "code",
   "execution_count": null,
   "metadata": {},
   "outputs": [],
   "source": []
  },
  {
   "cell_type": "code",
   "execution_count": null,
   "metadata": {},
   "outputs": [],
   "source": []
  },
  {
   "cell_type": "code",
   "execution_count": null,
   "metadata": {},
   "outputs": [],
   "source": []
  },
  {
   "cell_type": "code",
   "execution_count": null,
   "metadata": {},
   "outputs": [],
   "source": []
  }
 ],
 "metadata": {
  "kernelspec": {
   "display_name": "env_310",
   "language": "python",
   "name": "python3"
  },
  "language_info": {
   "codemirror_mode": {
    "name": "ipython",
    "version": 3
   },
   "file_extension": ".py",
   "mimetype": "text/x-python",
   "name": "python",
   "nbconvert_exporter": "python",
   "pygments_lexer": "ipython3",
   "version": "3.10.14"
  }
 },
 "nbformat": 4,
 "nbformat_minor": 2
}
